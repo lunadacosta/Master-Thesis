{
  "nbformat": 4,
  "nbformat_minor": 0,
  "metadata": {
    "colab": {
      "name": "First_Base_Model.ipynb",
      "version": "0.3.2",
      "provenance": [],
      "collapsed_sections": [],
      "include_colab_link": true
    },
    "kernelspec": {
      "name": "python3",
      "display_name": "Python 3"
    }
  },
  "cells": [
    {
      "cell_type": "markdown",
      "metadata": {
        "id": "view-in-github",
        "colab_type": "text"
      },
      "source": [
        "<a href=\"https://colab.research.google.com/github/lunadacosta/Master-Thesis/blob/master/First_Base_Model.ipynb\" target=\"_parent\"><img src=\"https://colab.research.google.com/assets/colab-badge.svg\" alt=\"Open In Colab\"/></a>"
      ]
    },
    {
      "cell_type": "markdown",
      "metadata": {
        "id": "Y_0OYhabTJsR",
        "colab_type": "text"
      },
      "source": [
        "# First Base Model"
      ]
    },
    {
      "cell_type": "markdown",
      "metadata": {
        "id": "Y4k-wVkgTcHW",
        "colab_type": "text"
      },
      "source": [
        "Created by: Luciana G. Da Costa\n",
        "\n",
        "On this notebook I will explanate on the building of a basic sequential neural network for classification of messages replies obtained from Rspamd."
      ]
    },
    {
      "cell_type": "markdown",
      "metadata": {
        "id": "G3HIqkEuUQCn",
        "colab_type": "text"
      },
      "source": [
        "# Dataset"
      ]
    },
    {
      "cell_type": "markdown",
      "metadata": {
        "id": "4VO8fh7cUVkm",
        "colab_type": "text"
      },
      "source": [
        "The E-mails used here where freely obtained from the: *insert the name of the website and a url*\n",
        "\n",
        "This dataset is very helpful, because they already separate SPAM from HAM. Next step was to pass those E-mails through Rspamd, so we could collect the symbols resulting from the checking that Rspamd peform on them."
      ]
    },
    {
      "cell_type": "markdown",
      "metadata": {
        "id": "f8qIzc8cLHsD",
        "colab_type": "text"
      },
      "source": [
        "Mounting google drive to access the datasets\n"
      ]
    },
    {
      "cell_type": "code",
      "metadata": {
        "id": "MRfu6ifKStM8",
        "colab_type": "code",
        "outputId": "cffcecbe-b3f2-498c-daba-dd87def67618",
        "colab": {
          "base_uri": "https://localhost:8080/",
          "height": 34
        }
      },
      "source": [
        "from google.colab import drive\n",
        "drive.mount('/content/gdrive')"
      ],
      "execution_count": 0,
      "outputs": [
        {
          "output_type": "stream",
          "text": [
            "Drive already mounted at /content/gdrive; to attempt to forcibly remount, call drive.mount(\"/content/gdrive\", force_remount=True).\n"
          ],
          "name": "stdout"
        }
      ]
    },
    {
      "cell_type": "markdown",
      "metadata": {
        "id": "vkNQvfsYAsqX",
        "colab_type": "text"
      },
      "source": [
        "Now we read the datasets with pandas. We have two .csv files with about 1000 rows and two colums. First column is a string with all symbols related to one message. Second column is the label: 0= ham and 1= spam. I also add another column to the dataframe that pandas will create, this column ('source') will point from which -csv file the input originates.\n",
        "\n",
        "After readed, the files are concatenate and then shuffled. Bellow one can see the first then rows of the dataframe."
      ]
    },
    {
      "cell_type": "code",
      "metadata": {
        "id": "1eV3qxkYBK3U",
        "colab_type": "code",
        "outputId": "b1d0dac8-8a15-4e04-a507-e680d6b5b4b2",
        "colab": {
          "base_uri": "https://localhost:8080/",
          "height": 391
        }
      },
      "source": [
        "import pandas as pd\n",
        "\n",
        "##### Load data with Pandas ######\n",
        "\n",
        "filepath_dict = {'spam': 'gdrive/My Drive/Colab Notebooks/dataset/spam.csv',\n",
        "                 'ham': 'gdrive/My Drive/Colab Notebooks/dataset/ham.csv'}\n",
        "\n",
        "df_list = []\n",
        "for source, filepath in filepath_dict.items():\n",
        "    df = pd.read_csv(filepath, names=['symbols', 'label'], sep=';')\n",
        "    df['source'] = source  #Add another column filled with the source name\n",
        "    df_list.append(df)\n",
        "\n",
        "df = pd.concat(df_list)\n",
        "##### label=0: ham, label=1_ spam #################\n",
        "print(df.iloc[0:10,:])\n",
        "\n",
        "## randomize dataset, not really used, was just for learning purpose\n",
        "frame = df.sample(frac=1).reset_index(drop=True)\n",
        "print(frame.iloc[0:10,:])"
      ],
      "execution_count": 0,
      "outputs": [
        {
          "output_type": "stream",
          "text": [
            "                                             symbols  label source\n",
            "0               ARC_NA              DATE_IN_PAST ...      1   spam\n",
            "1               ARC_NA              DATE_IN_PAST ...      1   spam\n",
            "2               ARC_NA              FROM_HAS_DN  ...      1   spam\n",
            "3               ARC_NA              FROM_NEQ_DISP...      1   spam\n",
            "4               ARC_NA              R_SPF_DNSFAIL...      1   spam\n",
            "5               ARC_NA              SUBJ_EXCESS_B...      1   spam\n",
            "6               ARC_NA              R_SPF_DNSFAIL...      1   spam\n",
            "7               ARC_NA              SUBJECT_ENDS_...      1   spam\n",
            "8               ARC_NA              FROM_HAS_DN  ...      1   spam\n",
            "9               ARC_NA              DATE_IN_PAST ...      1   spam\n",
            "                                             symbols  label source\n",
            "0               ARC_NA              R_SPF_DNSFAIL...      1   spam\n",
            "1               ARC_NA              CTE_CASE     ...      1   spam\n",
            "2               ARC_NA              MV_CASE      ...      0    ham\n",
            "3               ARC_NA              HAS_REPLYTO  ...      1   spam\n",
            "4               ARC_NA              SUBJECT_ENDS_...      1   spam\n",
            "5               ARC_NA              R_SPF_DNSFAIL...      1   spam\n",
            "6               ARC_NA              R_SPF_DNSFAIL...      1   spam\n",
            "7               ARC_NA              FAKE_REPLY   ...      0    ham\n",
            "8               R_SPF_DNSFAIL              MIME_M...      1   spam\n",
            "9               ARC_NA              R_SPF_DNSFAIL...      1   spam\n"
          ],
          "name": "stdout"
        }
      ]
    },
    {
      "cell_type": "markdown",
      "metadata": {
        "id": "mmVKS-JsBYWL",
        "colab_type": "text"
      },
      "source": [
        "I now split my dataframe between train dataset and test dataset on a proportion 75/25. Still I need to prep-process this dataset, so that the NN can peform calculations on it. So there is a need to convert the symbols into non-identical numbers. On this case I chose a tool from Scikit called CountVectorizer to tokenize my document and create a \"vocabulary\" index from it."
      ]
    },
    {
      "cell_type": "code",
      "metadata": {
        "id": "IeWDRm_4BeHw",
        "colab_type": "code",
        "outputId": "2d83a9d2-56db-402b-c389-5932806c438a",
        "colab": {
          "base_uri": "https://localhost:8080/",
          "height": 1926
        }
      },
      "source": [
        "############### split the dataset in train and test dataset ##############\n",
        "\n",
        "from sklearn.feature_extraction.text import CountVectorizer\n",
        "from sklearn.model_selection import train_test_split\n",
        "\n",
        "for source in frame['source'].unique():\n",
        "    df_source = frame[frame['source'] == source]\n",
        "    sentences = df_source['symbols'].values\n",
        "    y = df_source['label'].values\n",
        "\n",
        "    sentences_train, sentences_test, y_train, y_test = train_test_split(sentences, y, test_size=0.25, random_state=42)\n",
        "    \n",
        "    #print(sentences_train)\n",
        "    \n",
        "##### Tokenize using CountVectorizer#######\n",
        "\n",
        "    vectorizer = CountVectorizer()\n",
        "    # building the vocabulary\n",
        "    vectorizer.fit(sentences_train)\n",
        "    vocab = vectorizer.vocabulary_\n",
        "    print(vocab)\n",
        "    # vectorize the documents with the vocabulary\n",
        "    X_train = vectorizer.transform(sentences_train)\n",
        "    X_test = vectorizer.transform(sentences_test)\n",
        "    print(X_train)\n"
      ],
      "execution_count": 0,
      "outputs": [
        {
          "output_type": "stream",
          "text": [
            "{'arc_na': 0, 'r_spf_dnsfail': 106, 'from_has_dn': 33, 'freemail_from': 26, 'html_short_link_img_1': 60, 'mime_good': 81, 'mime_trace': 86, 'to_dn_none': 156, 'uri_count_odd': 163, 'rcpt_count_one': 113, 'rcvd_count_three': 122, 'dmarc_dnsfail': 10, 'rcvd_no_tls_last': 129, 'from_eq_envfrom': 30, 'r_dkim_na': 101, 'freemail_envfrom': 24, 'date_in_past': 6, 'hfilter_hostname_unknown': 56, 'received_spamhaus_fail': 133, 'mime_ma_missing_html': 84, 'to_dn_all': 154, 'mid_contains_from': 73, 'subject_ends_spaces': 147, 'subj_excess_base64': 143, 'previously_delivered': 99, 'r_parts_differ': 105, 'invalid_postfix_received': 67, 'has_x_prio_three': 49, 'phishing': 97, 'mid_rhs_match_from': 76, 'has_replyto': 45, 'rcvd_count_five': 119, 'replyto_eq_from': 138, 'precedence_bulk': 98, 'cte_case': 4, 'tagged_from': 153, 'from_neq_envfrom': 38, 'subj_all_caps': 142, 'subject_ends_exclaim': 145, 'mid_rhs_not_fqdn': 78, 'to_eq_from': 159, 'r_empty_image': 102, 'missing_mid': 89, 'ctype_mixed_bogus': 5, 'from_name_excess_space': 34, 'rcvd_count_two': 123, 'mime_ma_missing_text': 85, 'freemail_replyto': 27, 'mime_html_only': 83, 'ratware_ms_hash': 111, 'rcpt_count_seven': 114, 'mv_case': 94, 'has_xoip': 53, 'rcvd_count_seven': 121, 'subject_has_exclaim': 149, 'from_neq_display_name': 37, 'forged_mua_outlook': 18, 'suspicious_recips': 152, 'forged_outlook_html': 22, 'multiple_unique_headers': 93, 'rcpt_count_three': 115, 'missing_mimeole': 91, 'subject_has_currency': 148, 'many_invisible_parts': 71, 'subject_ends_question': 146, 'rcvd_via_smtp_auth': 130, 'hfilter_fromhost_nores_a_or_mx': 54, 'spoof_display_name': 141, 'mid_contains_to': 74, 'dmarc_na': 11, 'r_suspicious_images': 107, 'rcvd_double_ip_spam': 125, 'fake_reply': 14, 'r_bad_cte_7bit': 100, 'forged_outlook_tags': 23, 'html_short_link_img_2': 61, 'has_org_header': 43, 'r_white_on_white': 110, 'missing_to': 92, 'subject_has_question': 150, 'rcvd_count_one': 120, 'once_received': 95, 'mid_missing_brackets': 75, 'repto_quote_yahoo': 140, 'mailspike_fail': 70, 'rcvd_in_dnswl_fail': 128, 'rcpt_count_two': 117, 'rcpt_count_five': 112, 'to_excess_qp': 161, 'from_excess_qp': 32, 'subj_excess_qp': 144, 'envfrom_service_acct': 13, 'subject_needs_encoding': 151, 'from_service_acct': 40, 'http_to_ip': 63, 'hfilter_url_only': 58, 'introduction': 64, 'invalid_msgid': 66, 'from_no_dn': 39, 'missing_date': 87, 'empty_subject': 12, 'xm_ua_no_version': 166, 'r_no_space_in_from': 104, 'has_xaw': 52, 'has_x_prio_one': 48, 'missing_from': 88, 'rcvd_count_zero': 124, 'broken_headers': 2, 'mime_base64_text': 80, 'forged_msgid_yahoo': 15, 'long_subj': 68, 'replyto_addr_eq_from': 134, 'ct_extra_semi': 3, 'mid_bare_ip': 72, 'to_dom_eq_from_dom': 158, 'freemail_envrcpt': 25, 'xaw_service_acct': 164, 'freemail_to': 28, 'r_suspicious_url': 108, 'disposable_envfrom': 7, 'r_undisc_rcpt': 109, 'has_attachment': 41, 'mime_bad_attachment': 79, 'rcpt_count_twelve': 116, 'forged_mua_thunderbird_msgid_unknown': 21, 'html_short_link_img_3': 62, 'from_name_has_title': 35, 'forged_mua_thebat_msgid_unknown': 20, 'forged_mua_thebat_boun': 19, 'hfilter_url_oneline': 57, 'mime_header_ctype_only': 82, 'from_needs_encoding': 36, 'rcpt_count_zero': 118, 'has_x_source': 51, 'to_match_envrcpt_all': 162, 'to_dn_eq_addr_all': 155, 'has_x_antiabuse': 46, 'rcvd_illegal_chars': 127, 'replyto_dn_eq_from_dn': 135, 'replyto_dom_eq_from_dom': 136, 'zero_font': 167, 'forged_mua_mozilla_mail_msgid_unknown': 17, 'replyto_dom_neq_from_dom': 137, 'from_dn_eq_addr': 29, 'has_list_unsub': 42, 'maillist': 69, 'missing_mime_version': 90, 'invalid_from_8bit': 65, 'r_missing_charset': 103, 'has_x_prio_two': 50, 'hfilter_fromhost_not_fqdn': 55, 'rcvd_helo_user': 126, 'forged_mua_mozilla_mail_msgid': 16, 'broken_content_type': 1, 'to_dn_some': 157, 'from_excess_base64': 31, 'to_excess_base64': 160, 'replyto_excess_base64': 139, 'phish_emotion': 96, 'has_phpmailer_sig': 44, 'xm_case': 165, 'rdns_none': 132, 'rdns_dnsfail': 131, 'mid_rhs_match_to': 77, 'html_meta_refresh_url': 59, 'disposable_replyto': 9, 'disposable_from': 8, 'has_x_prio_five': 47}\n",
            "  (0, 0)\t1\n",
            "  (0, 6)\t1\n",
            "  (0, 10)\t1\n",
            "  (0, 24)\t1\n",
            "  (0, 26)\t1\n",
            "  (0, 30)\t1\n",
            "  (0, 33)\t1\n",
            "  (0, 56)\t1\n",
            "  (0, 60)\t1\n",
            "  (0, 81)\t1\n",
            "  (0, 86)\t1\n",
            "  (0, 101)\t1\n",
            "  (0, 106)\t1\n",
            "  (0, 113)\t1\n",
            "  (0, 122)\t1\n",
            "  (0, 129)\t1\n",
            "  (0, 133)\t1\n",
            "  (0, 156)\t1\n",
            "  (0, 163)\t1\n",
            "  (1, 0)\t1\n",
            "  (1, 6)\t1\n",
            "  (1, 10)\t1\n",
            "  (1, 24)\t1\n",
            "  (1, 26)\t1\n",
            "  (1, 30)\t1\n",
            "  :\t:\n",
            "  (1108, 76)\t1\n",
            "  (1108, 81)\t1\n",
            "  (1108, 86)\t1\n",
            "  (1108, 101)\t1\n",
            "  (1108, 106)\t1\n",
            "  (1108, 113)\t1\n",
            "  (1108, 123)\t1\n",
            "  (1108, 129)\t1\n",
            "  (1108, 156)\t1\n",
            "  (1109, 0)\t1\n",
            "  (1109, 6)\t1\n",
            "  (1109, 10)\t1\n",
            "  (1109, 30)\t1\n",
            "  (1109, 33)\t1\n",
            "  (1109, 43)\t1\n",
            "  (1109, 56)\t1\n",
            "  (1109, 81)\t1\n",
            "  (1109, 86)\t1\n",
            "  (1109, 101)\t1\n",
            "  (1109, 106)\t1\n",
            "  (1109, 113)\t1\n",
            "  (1109, 122)\t1\n",
            "  (1109, 129)\t1\n",
            "  (1109, 133)\t1\n",
            "  (1109, 156)\t1\n",
            "{'arc_na': 0, 'mid_rhs_not_fqdn': 12, 'mv_case': 18, 'mime_good': 13, 'to_dn_none': 34, 'rcpt_count_one': 22, 'dmarc_dnsfail': 3, 'from_no_dn': 9, 'rcvd_count_zero': 27, 'mime_trace': 14, 'date_in_past': 2, 'r_dkim_na': 19, 'hfilter_hostname_unknown': 10, 'to_dom_eq_from_dom': 36, 'rcpt_count_seven': 23, 'rcpt_count_three': 24, 'rcpt_count_gt_50': 21, 'fake_reply': 6, 'rcpt_count_two': 26, 'rcpt_count_twelve': 25, 'rcpt_count_five': 20, 'subj_excess_qp': 29, 'subject_has_question': 32, 'suspicious_recips': 33, 'subj_all_caps': 28, 'subject_ends_exclaim': 30, 'missing_to': 17, 'to_dn_some': 35, 'subject_ends_question': 31, 'freemail_from': 8, 'freemail_envfrom': 7, 'empty_subject': 5, 'introduction': 11, 'missing_from': 16, 'missing_date': 15, 'dmarc_na': 4, 'broken_headers': 1}\n",
            "  (0, 0)\t1\n",
            "  (0, 2)\t1\n",
            "  (0, 3)\t1\n",
            "  (0, 9)\t1\n",
            "  (0, 10)\t1\n",
            "  (0, 12)\t1\n",
            "  (0, 13)\t1\n",
            "  (0, 14)\t1\n",
            "  (0, 18)\t1\n",
            "  (0, 19)\t1\n",
            "  (0, 22)\t1\n",
            "  (0, 27)\t1\n",
            "  (0, 34)\t1\n",
            "  (1, 0)\t1\n",
            "  (1, 2)\t1\n",
            "  (1, 3)\t1\n",
            "  (1, 9)\t1\n",
            "  (1, 10)\t1\n",
            "  (1, 12)\t1\n",
            "  (1, 13)\t1\n",
            "  (1, 14)\t1\n",
            "  (1, 18)\t1\n",
            "  (1, 19)\t1\n",
            "  (1, 22)\t1\n",
            "  (1, 27)\t1\n",
            "  :\t:\n",
            "  (750, 2)\t1\n",
            "  (750, 3)\t1\n",
            "  (750, 9)\t1\n",
            "  (750, 10)\t1\n",
            "  (750, 12)\t1\n",
            "  (750, 13)\t1\n",
            "  (750, 14)\t1\n",
            "  (750, 18)\t1\n",
            "  (750, 19)\t1\n",
            "  (750, 20)\t1\n",
            "  (750, 27)\t1\n",
            "  (750, 34)\t1\n",
            "  (751, 0)\t1\n",
            "  (751, 2)\t1\n",
            "  (751, 3)\t1\n",
            "  (751, 9)\t1\n",
            "  (751, 10)\t1\n",
            "  (751, 12)\t1\n",
            "  (751, 13)\t1\n",
            "  (751, 14)\t1\n",
            "  (751, 18)\t1\n",
            "  (751, 19)\t1\n",
            "  (751, 25)\t1\n",
            "  (751, 27)\t1\n",
            "  (751, 34)\t1\n"
          ],
          "name": "stdout"
        }
      ]
    },
    {
      "cell_type": "markdown",
      "metadata": {
        "id": "jDKaVRwOZIgq",
        "colab_type": "text"
      },
      "source": [
        "***Here we have a strange behaviour. For some reason, in Colab Notebook, the Count Vectorizer is creating two distinct vocabulary. Also the vectorization has assume an strange format, which is probably affecting the training of the NN***"
      ]
    },
    {
      "cell_type": "markdown",
      "metadata": {
        "id": "WWpMyuioByqn",
        "colab_type": "text"
      },
      "source": [
        "I want to build a simple two layers Keras sequential model. As input dimension for the first layer we have the shape of the X_train set. As loss function we use Binary Cross Entropy, which is really good option for classification problems, and Adam will be the Optimizer."
      ]
    },
    {
      "cell_type": "code",
      "metadata": {
        "id": "sfla0KVuCOPt",
        "colab_type": "code",
        "outputId": "5bc6941f-f034-4e23-93d3-f3d70e160037",
        "colab": {
          "base_uri": "https://localhost:8080/",
          "height": 217
        }
      },
      "source": [
        "####### here starts the keras_model #######\n",
        "from keras.models import Sequential\n",
        "from keras import layers\n",
        "\n",
        "input_dim = X_train.shape[1]  # Numbers of features\n",
        "\n",
        "model = Sequential()\n",
        "model.add(layers.Dense(200, input_dim=input_dim, activation='relu'))\n",
        "model.add(layers.Dense(1, activation='sigmoid'))\n",
        "#TensorFlow as backend\n",
        "\n",
        "### configuration of the learning process ###\n",
        "\n",
        "model.compile(loss='binary_crossentropy', optimizer='adam', metrics=['accuracy'])\n",
        "model.summary()  # gives an overview of the model\n",
        "\n",
        "###### training with the .fit() function #######\n",
        "\n",
        "history = model.fit(X_train, y_train, epochs=5, verbose=False, validation_data=(X_test, y_test), batch_size=20)\n"
      ],
      "execution_count": 0,
      "outputs": [
        {
          "output_type": "stream",
          "text": [
            "_________________________________________________________________\n",
            "Layer (type)                 Output Shape              Param #   \n",
            "=================================================================\n",
            "dense_3 (Dense)              (None, 200)               33200     \n",
            "_________________________________________________________________\n",
            "dense_4 (Dense)              (None, 1)                 201       \n",
            "=================================================================\n",
            "Total params: 33,401\n",
            "Trainable params: 33,401\n",
            "Non-trainable params: 0\n",
            "_________________________________________________________________\n"
          ],
          "name": "stdout"
        }
      ]
    },
    {
      "cell_type": "markdown",
      "metadata": {
        "id": "qLnmg9XuCR9P",
        "colab_type": "text"
      },
      "source": [
        "For now as metric for evaluation of our NN we are using accuracy."
      ]
    },
    {
      "cell_type": "code",
      "metadata": {
        "id": "ortehYvdCcqN",
        "colab_type": "code",
        "outputId": "733be14f-131d-40bc-fd43-8a9bd6302312",
        "colab": {
          "base_uri": "https://localhost:8080/",
          "height": 53
        }
      },
      "source": [
        "##### .evaluate() is used to measure the accuracy of the model ########\n",
        "\n",
        "loss, accuracy = model.evaluate(X_train, y_train, verbose=False)\n",
        "print(\"Training Accuracy:  {:.4f}\".format(accuracy))\n",
        "loss, accuracy = model.evaluate(X_test, y_test, verbose=False)\n",
        "print(\"Testing Accuracy:  {:.4f}\".format(accuracy))\n"
      ],
      "execution_count": 0,
      "outputs": [
        {
          "output_type": "stream",
          "text": [
            "Training Accuracy:  1.0000\n",
            "Testing Accuracy:  1.0000\n"
          ],
          "name": "stdout"
        }
      ]
    },
    {
      "cell_type": "markdown",
      "metadata": {
        "id": "z0Cs6LtzCffw",
        "colab_type": "text"
      },
      "source": [
        "To help us vizualizate how the accuracy and the loss of the training and dataset are going we can plot this graphic."
      ]
    },
    {
      "cell_type": "code",
      "metadata": {
        "id": "Pl8T2j4tCpwn",
        "colab_type": "code",
        "outputId": "a29fec72-71a6-4e8f-8125-26b823fc1c1f",
        "colab": {
          "base_uri": "https://localhost:8080/",
          "height": 337
        }
      },
      "source": [
        "####### Visualization of the loss an the accuracy for the training and testing data set ############\n",
        "import matplotlib.pyplot as plt\n",
        "\n",
        "plt.style.use('ggplot')\n",
        "\n",
        "def plot_history(history):\n",
        "    acc = history.history['acc']\n",
        "    val_acc = history.history['val_acc']\n",
        "    loss = history.history['loss']\n",
        "    val_loss = history.history['val_loss']\n",
        "    x = range(1, len(acc) + 1)\n",
        "\n",
        "    plt.figure(figsize=(12, 5))\n",
        "    plt.subplot(1, 2, 1)\n",
        "    plt.plot(x, acc, 'b', label='Training acc')\n",
        "    plt.plot(x, val_acc, 'r', label='Validation acc')\n",
        "    plt.title('Training and validation accuracy')\n",
        "    plt.legend()\n",
        "    plt.subplot(1, 2, 2)\n",
        "    plt.plot(x, loss, 'b', label='Training loss')\n",
        "    plt.plot(x, val_loss, 'r', label='Validation loss')\n",
        "    plt.title('Training and validation loss')\n",
        "    plt.legend()\n",
        "\n",
        "plot_history(history)\n",
        "plt.show()"
      ],
      "execution_count": 0,
      "outputs": [
        {
          "output_type": "display_data",
          "data": {
            "image/png": "[encoded data removed]",
            "text/plain": [
              "<Figure size 864x360 with 2 Axes>"
            ]
          },
          "metadata": {
            "tags": []
          }
        }
      ]
    }
  ]
}
